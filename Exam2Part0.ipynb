{
 "cells": [
  {
   "cell_type": "markdown",
   "metadata": {},
   "source": [
    "## Part 0: Write a method that returns the largest number in a list \n",
    "* [Constraints](#Constraints)\n",
    "* [Test Cases](#Test-Cases)\n",
    "* [Algorithm](#Algorithm)\n",
    "* [Code](#Code)\n",
    "* [Unit Test](#Unit-Test)\n",
    "* [Solution Notebook](#Solution-Notebook)"
   ]
  },
  {
   "cell_type": "markdown",
   "metadata": {},
   "source": [
    "## Constraints\n",
    "\n",
    "* Can we assume list has a length longer than zero?\n",
    "    * Yes\n",
    "* Can we assume the inputs are valid?\n",
    "    * No\n",
    "* Can we assume this fits memory?\n",
    "    * Yes"
   ]
  },
  {
   "cell_type": "markdown",
   "metadata": {},
   "source": [
    "## Test Cases\n",
    "\n",
    "<pre>\n",
    "* _input_ -> _result_\n",
    "* [1] -> 1\n",
    "* [1, 2, 3] -> 3\n",
    "* [100, 4, 3, 17] -> 100\n",
    "* [23, -17, 42, 138, 58, 0, 5] -> 138\n",
    "* [65536, 1028108201, 7] -> 1028108201\n",
    "</pre>"
   ]
  },
  {
   "cell_type": "markdown",
   "metadata": {},
   "source": [
    "## Algorithm\n",
    "\n",
    "The list comes into the function as an argument.\n",
    "Return the largest number you found in the list. \n",
    "\n",
    "Complexity:\n",
    "\n",
    "Time: O(1)\n",
    "Space: O(1)"
   ]
  },
  {
   "cell_type": "markdown",
   "metadata": {},
   "source": [
    "## Code"
   ]
  },
  {
   "cell_type": "code",
   "execution_count": 7,
   "metadata": {},
   "outputs": [],
   "source": [
    "class Solution(object):\n",
    "\n",
    "    def list_max(self, a_list):\n",
    "        # TODO: Implement me\n",
    "        pass"
   ]
  },
  {
   "cell_type": "markdown",
   "metadata": {},
   "source": [
    "## Unit Test"
   ]
  },
  {
   "cell_type": "markdown",
   "metadata": {},
   "source": [
    "**The following unit test is expected to fail until you solve the challenge.**"
   ]
  },
  {
   "cell_type": "code",
   "execution_count": 10,
   "metadata": {},
   "outputs": [
    {
     "name": "stdout",
     "output_type": "stream",
     "text": [
      "Success: test_list_max\n"
     ]
    }
   ],
   "source": [
    "# %load test_add_digits.py\n",
    "from nose.tools import assert_equal\n",
    "\n",
    "\n",
    "class TestMaxList(object):\n",
    "\n",
    "    def test_list_max(self, func):\n",
    "        assert_equal(func([1]), 1)\n",
    "        assert_equal(func([0]), 0)\n",
    "        assert_equal(func([0, -5, -9]), 0)\n",
    "        assert_equal(func([1, 2, 3]), 3)\n",
    "        assert_equal(func([100, 4, 3, 17]), 100)\n",
    "        assert_equal(func([23, -17, 42, 138, 58, 0, 5]), 138)\n",
    "        assert_equal(func([65536, 1028108201, 7]), 1028108201)\n",
    "        assert_equal(func([-1, -4, 17, 56, 64, 256]), 256)\n",
    "        assert_equal(func([84023840, 97298479, 38742974]), 97298479) \n",
    "        assert_equal(func([-9, -13, -400, -432 -10]), -9) \n",
    "        print('Success: test_list_max')\n",
    "\n",
    "\n",
    "def main():\n",
    "    test = TestMaxList()\n",
    "    solution = Solution()\n",
    "    test.test_list_max(solution.list_max)\n",
    "\n",
    "\n",
    "if __name__ == '__main__':\n",
    "    main()"
   ]
  },
  {
   "cell_type": "code",
   "execution_count": 2,
   "metadata": {
    "scrolled": true
   },
   "outputs": [
    {
     "name": "stdout",
     "output_type": "stream",
     "text": [
      "Defaulting to user installation because normal site-packages is not writeable\n",
      "Collecting nose\n",
      "  Using cached nose-1.3.7-py3-none-any.whl (154 kB)\n",
      "Installing collected packages: nose\n",
      "Successfully installed nose-1.3.7\n",
      "\u001b[33mWARNING: You are using pip version 21.2.4; however, version 24.0 is available.\n",
      "You should consider upgrading via the '/Library/Developer/CommandLineTools/usr/bin/python3 -m pip install --upgrade pip' command.\u001b[0m\n"
     ]
    }
   ],
   "source": [
    "# You may need to do this\n",
    "\n",
    "# inside of jupyter lab\n",
    "!pip3 install nose\n"
   ]
  }
 ],
 "metadata": {
  "kernelspec": {
   "display_name": "Python 3 (ipykernel)",
   "language": "python",
   "name": "python3"
  },
  "language_info": {
   "codemirror_mode": {
    "name": "ipython",
    "version": 3
   },
   "file_extension": ".py",
   "mimetype": "text/x-python",
   "name": "python",
   "nbconvert_exporter": "python",
   "pygments_lexer": "ipython3",
   "version": "3.9.6"
  }
 },
 "nbformat": 4,
 "nbformat_minor": 4
}
